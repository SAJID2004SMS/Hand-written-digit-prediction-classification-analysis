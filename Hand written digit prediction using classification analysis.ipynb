
Hand Written Digit Prediction-Classification Analysis
The digits dataset consists of 8x8 pixel images pf digits.The images attribute of the dataset stores 8x8 arrays of grayscale values for each image.we will use these arrays to visualize the first 4 images.The target attritube of the dataset stores the digit each image represents

ybi foundation-github

Import Library

[ ]
import pandas as pd

[ ]
import numpy as np

[ ]
import matplotlib.pyplot as plt
Import Data

[ ]
from sklearn.datasets import load_digits
Describe Data

[ ]
df = load_digits()
Data Visualization

[ ]
_, axes = plt.subplots(nrows = 1, ncols = 4, figsize = (10, 3))
for ax, image, label in zip(axes, df.images, df.target):
    ax.set_axis_off()
    ax.imshow(image, cmap=plt.cm.gray_r, interpolation = 'nearest')
    ax.set_title('Training: %i' % label)
Data Preprocessing
Flatten Image

[ ]
df.images.shape

[ ]
df.images[0]

[ ]
df.images[0].shape

[ ]
n_samples = len(df.images)
data = df.images.reshape((n_samples, -1))

[ ]
data[0]


[ ]
data[0].shape

[ ]
data.shape
Scaling Data

[ ]
data.min()

[ ]
data.max()

[ ]
data = data/16

[ ]
data.min()

[ ]
data.max()

[ ]
data[0]
Train test split Data

[ ]
from sklearn.model_selection import train_test_split

[ ]
xtrain, xtest, ytrain, ytest = train_test_split(data, df.target, test_size = 0.3)

[ ]
xtrain.shape, xtest.shape, ytrain.shape, ytest.shape
Modeling
Random Forest model

[ ]
from sklearn.ensemble import RandomForestClassifier

[ ]
rf = RandomForestClassifier()
Train or Fit Model

[ ]
rf.fit(xtrain, ytrain)
Prediction
Predict Test Data

[ ]
y_pred = rf.predict(xtest)

[ ]
y_pred
Model Evaluation
Model Accuracy

[ ]
from sklearn.metrics import confusion_matrix, classification_report

[ ]
confusion_matrix(ytest, y_pred)

[ ]
print(classification_report(ytest, y_pred))
Explaination
Handwritten Digit Prediction, or Digit Classification, is like training a computer to read and understand handwritten numbers, similar to how we recognize them ourselves. Imagine you have a bunch of pictures, each showing a handwritten digit from 0 to 9. The goal is to teach the computer how to look at these pictures and figure out which digit is in each one. We split our pictures into two groups: one set to teach the computer (training set) and another to test its skills (testing set). We choose a smart method, like a special problem-solving recipe, for the computer to learn the patterns and differences in the pictures. As it learns, we guide it by telling whether its guesses are right or wrong. Once it masters this skill, we give it new pictures it hasn't seen during training, and it tries its best to guess the correct digit. We check its guesses to see how well it's doing, using simple checks to see if it's getting the numbers correct. This project helps us build a computer that can recognize handwritten digits, which has practical uses like reading postal codes or helping computers understand our handwriting. It's like teaching the computer to read your handwriting.

Colab paid products - Cancel contracts here
